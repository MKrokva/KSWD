{
 "cells": [
  {
   "cell_type": "code",
   "execution_count": null,
   "id": "73a26d19-001e-4b9e-9af5-a3ad78d40d98",
   "metadata": {},
   "outputs": [],
   "source": [
    "import turtle\n",
    "\n",
    "\n",
    "def s(n, l):\n",
    "\n",
    "    if n == 0: \n",
    "\n",
    "        \n",
    "\n",
    "        turtle.color('black')\n",
    "        turtle.begin_fill()\n",
    "        for _ in range (4):\n",
    "            turtle.forward(l)\n",
    "            turtle.left(90)\n",
    "        turtle.end_fill()\n",
    "\n",
    "    else: \n",
    "\n",
    "        for _ in range(4):\n",
    "            \n",
    "            s(n-1, l/3)    \n",
    "            turtle.forward(l/3)\n",
    "\n",
    "            \n",
    "            s(n-1, l/3)    \n",
    "            turtle.forward(l/3)\n",
    "\n",
    "            \n",
    "            turtle.forward(l/3)\n",
    "            turtle.left(90)\n",
    "\n",
    "       \n",
    "        turtle.update()\n",
    "\n",
    "  \n",
    "\n",
    "\n",
    "turtle.tracer(0) \n",
    "\n",
    "\n",
    "s(4, 400)\n",
    "\n",
    "\n",
    "turtle.done()"
   ]
  }
 ],
 "metadata": {
  "kernelspec": {
   "display_name": "Python 3 (ipykernel)",
   "language": "python",
   "name": "python3"
  },
  "language_info": {
   "codemirror_mode": {
    "name": "ipython",
    "version": 3
   },
   "file_extension": ".py",
   "mimetype": "text/x-python",
   "name": "python",
   "nbconvert_exporter": "python",
   "pygments_lexer": "ipython3",
   "version": "3.11.5"
  }
 },
 "nbformat": 4,
 "nbformat_minor": 5
}
