{
 "cells": [
  {
   "cell_type": "code",
   "execution_count": 1,
   "id": "8ba06300-e4b4-463a-9d65-40162db74a83",
   "metadata": {},
   "outputs": [
    {
     "name": "stdin",
     "output_type": "stream",
     "text": [
      "Вибір рівня рекурсії (0-5):  5\n"
     ]
    }
   ],
   "source": [
    "import turtle\n",
    "\n",
    "def snowflake(t, order, size):\n",
    "    if order == 0:\n",
    "        t.forward(size)\n",
    "    else:\n",
    "        snowflake(t, order-1, size/3)\n",
    "        t.left(60)\n",
    "        snowflake(t, order-1, size/3)\n",
    "        t.right(120)\n",
    "        snowflake(t, order-1, size/3)\n",
    "        t.left(60)\n",
    "        snowflake(t, order-1, size/3)\n",
    "\n",
    "t = turtle.Turtle()\n",
    "t.speed(0)\n",
    "t.penup()\n",
    "t.goto(-150, 90)\n",
    "t.pendown()\n",
    "\n",
    "order = int(input(\"Вибір рівня рекурсії (0-5): \"))\n",
    "size = 300\n",
    "\n",
    "for i in range(3):\n",
    "    snowflake(t, order, size)\n",
    "    t.right(120)\n",
    "\n",
    "turtle.done()"
   ]
  },
  {
   "cell_type": "code",
   "execution_count": null,
   "id": "ec3c91a6-832e-4bb7-9f54-e70121a146d8",
   "metadata": {},
   "outputs": [],
   "source": []
  }
 ],
 "metadata": {
  "kernelspec": {
   "display_name": "Python 3 (ipykernel)",
   "language": "python",
   "name": "python3"
  },
  "language_info": {
   "codemirror_mode": {
    "name": "ipython",
    "version": 3
   },
   "file_extension": ".py",
   "mimetype": "text/x-python",
   "name": "python",
   "nbconvert_exporter": "python",
   "pygments_lexer": "ipython3",
   "version": "3.11.5"
  }
 },
 "nbformat": 4,
 "nbformat_minor": 5
}
